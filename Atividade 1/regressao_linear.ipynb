{
 "cells": [
  {
   "cell_type": "markdown",
   "metadata": {},
   "source": [
    "# Atividade 1 de Aprendizado de Máquina: Regressão Linear\n",
    "\n",
    "- **Aluna:** Bárbara Neves\n",
    "- **Matrícula:** 388713"
   ]
  },
  {
   "cell_type": "markdown",
   "metadata": {},
   "source": [
    "## Descrição \n",
    "\n",
    "A atividade permite o uso das bibliotecas Numpy e Matplotlib, mas não a Scikit-Learn. Os métodos devem ser implementados usando a interface mostrada em sala de aula (métodos fit e predict)."
   ]
  },
  {
   "cell_type": "markdown",
   "metadata": {},
   "source": [
    "## Imports iniciais"
   ]
  },
  {
   "cell_type": "code",
   "execution_count": 1,
   "metadata": {},
   "outputs": [],
   "source": [
    "import numpy as np\n",
    "import matplotlib.pyplot as plt\n",
    "\n",
    "# Espero que não tenha problema em usar o Pandas para ler o arquivo\n",
    "import pandas as pd"
   ]
  },
  {
   "cell_type": "markdown",
   "metadata": {},
   "source": [
    "## Implementações"
   ]
  },
  {
   "cell_type": "markdown",
   "metadata": {},
   "source": [
    "### Gráficos para Visualização"
   ]
  },
  {
   "cell_type": "code",
   "execution_count": 2,
   "metadata": {},
   "outputs": [],
   "source": [
    "def plot_graphic(X, y, X_name, y_name):\n",
    "\n",
    "    plt.scatter(X, y, marker='o', s=10)\n",
    "\n",
    "    plt.xlabel(X_name)\n",
    "    plt.ylabel(y_name)\n",
    "\n",
    "    plt.show()"
   ]
  },
  {
   "cell_type": "code",
   "execution_count": 3,
   "metadata": {},
   "outputs": [],
   "source": [
    "def plot_linear_regression(X, y, y_pred, X_name, y_name):\n",
    "    \n",
    "    plt.scatter(X, y, marker='o', s=10)\n",
    "\n",
    "    plt.xlabel(X_name)\n",
    "    plt.ylabel(y_name)\n",
    "\n",
    "    plt.plot(X, y_pred, color=\"g\");"
   ]
  },
  {
   "cell_type": "markdown",
   "metadata": {},
   "source": [
    "### 1. Regressão Linear Simples "
   ]
  },
  {
   "cell_type": "code",
   "execution_count": 4,
   "metadata": {},
   "outputs": [],
   "source": [
    "class SimpleLinearRegression():\n",
    "    \n",
    "    def __init__(self):\n",
    "        pass\n",
    "\n",
    "    def fit(self, X, y):\n",
    "        # Número de observações\n",
    "        n = len(X)\n",
    "  \n",
    "        # Média do X e do y\n",
    "        mean_x, mean_y = np.mean(X), np.mean(y) \n",
    "        \n",
    "        # Aplicando método analítico\n",
    "        somat_xy = (np.sum(y * X)) - (n * mean_y * mean_x)\n",
    "        somat_xx = (np.sum(X * X)) - (n * mean_x * mean_x) \n",
    " \n",
    "        b_1 = somat_xy / somat_xx \n",
    "        b_0 = mean_y - (b_1 * mean_x) \n",
    "        \n",
    "        self.b_1 = b_1\n",
    "        self.b_0 = b_0\n",
    "\n",
    "    def predict(self, X):\n",
    "        \n",
    "        return self.b_0 + self.b_1 * X\n",
    "    \n",
    "    def coef_(self):\n",
    "        \n",
    "        return [self.b_0, self.b_1]"
   ]
  },
  {
   "cell_type": "markdown",
   "metadata": {},
   "source": [
    "### 2. Regressão Linear Múltipla"
   ]
  },
  {
   "cell_type": "code",
   "execution_count": 5,
   "metadata": {},
   "outputs": [],
   "source": [
    "class LinearRegression():\n",
    "    \n",
    "    def __init__(self):\n",
    "        pass\n",
    "\n",
    "    def fit(self, X, y):\n",
    "        \n",
    "        n = X.shape[0]\n",
    "        X_ = np.c_[np.ones(n), X]\n",
    "        \n",
    "        beta = np.linalg.pinv(X_.T @ X_) @ X_.T @ y\n",
    "        \n",
    "        self.B = beta\n",
    "        \n",
    "    def predict(self, X):\n",
    "        \n",
    "        n = X.shape[0]\n",
    "        X_ = np.c_[np.ones(n), X]\n",
    "        \n",
    "        return X_ @ self.B\n",
    "    \n",
    "    def coef_(self):\n",
    "        return self.B"
   ]
  },
  {
   "cell_type": "markdown",
   "metadata": {},
   "source": [
    "### 3. Funções de Avaliação"
   ]
  },
  {
   "cell_type": "markdown",
   "metadata": {},
   "source": [
    "#### RSS"
   ]
  },
  {
   "cell_type": "code",
   "execution_count": 6,
   "metadata": {},
   "outputs": [],
   "source": [
    "def RSS(y_true, y_pred):\n",
    "    \n",
    "    rss = np.sum((y_pred - y_true)**2)\n",
    "    \n",
    "    return rss"
   ]
  },
  {
   "cell_type": "markdown",
   "metadata": {},
   "source": [
    "#### RSE"
   ]
  },
  {
   "cell_type": "code",
   "execution_count": 7,
   "metadata": {},
   "outputs": [],
   "source": [
    "def RSE(y_true, y_pred):\n",
    "    \n",
    "    n = len(y_true)\n",
    "    rss = RSS(y_true, y_pred)\n",
    "    \n",
    "    rse = np.sqrt(rss/n-2)\n",
    "    \n",
    "    return rse"
   ]
  },
  {
   "cell_type": "markdown",
   "metadata": {},
   "source": [
    "#### R2"
   ]
  },
  {
   "cell_type": "code",
   "execution_count": 8,
   "metadata": {},
   "outputs": [],
   "source": [
    "def R2(y_true, y_pred):\n",
    "    \n",
    "    rss = RSS(y_true, y_pred)\n",
    "    tss = np.sum((y_true - np.mean(y_true))**2)\n",
    "\n",
    "    r2 = 1 - (rss/tss)\n",
    "    \n",
    "    return r2"
   ]
  },
  {
   "cell_type": "markdown",
   "metadata": {},
   "source": [
    "#### MAE"
   ]
  },
  {
   "cell_type": "code",
   "execution_count": 9,
   "metadata": {},
   "outputs": [],
   "source": [
    "def MAE(y_true, y_pred):\n",
    "    \n",
    "    n = len(y_true)\n",
    "    \n",
    "    mae = np.sum(np.absolute(y_pred - y_true)) / n\n",
    "    \n",
    "    return mae"
   ]
  },
  {
   "cell_type": "markdown",
   "metadata": {},
   "source": [
    "## Análises"
   ]
  },
  {
   "cell_type": "markdown",
   "metadata": {},
   "source": [
    "### 1. Leitura do dataset"
   ]
  },
  {
   "cell_type": "code",
   "execution_count": 10,
   "metadata": {},
   "outputs": [
    {
     "data": {
      "text/html": [
       "<div>\n",
       "<style scoped>\n",
       "    .dataframe tbody tr th:only-of-type {\n",
       "        vertical-align: middle;\n",
       "    }\n",
       "\n",
       "    .dataframe tbody tr th {\n",
       "        vertical-align: top;\n",
       "    }\n",
       "\n",
       "    .dataframe thead th {\n",
       "        text-align: right;\n",
       "    }\n",
       "</style>\n",
       "<table border=\"1\" class=\"dataframe\">\n",
       "  <thead>\n",
       "    <tr style=\"text-align: right;\">\n",
       "      <th></th>\n",
       "      <th>TV</th>\n",
       "      <th>radio</th>\n",
       "      <th>newspaper</th>\n",
       "      <th>sales</th>\n",
       "    </tr>\n",
       "  </thead>\n",
       "  <tbody>\n",
       "    <tr>\n",
       "      <th>0</th>\n",
       "      <td>230.1</td>\n",
       "      <td>37.8</td>\n",
       "      <td>69.2</td>\n",
       "      <td>22.1</td>\n",
       "    </tr>\n",
       "    <tr>\n",
       "      <th>1</th>\n",
       "      <td>44.5</td>\n",
       "      <td>39.3</td>\n",
       "      <td>45.1</td>\n",
       "      <td>10.4</td>\n",
       "    </tr>\n",
       "    <tr>\n",
       "      <th>2</th>\n",
       "      <td>17.2</td>\n",
       "      <td>45.9</td>\n",
       "      <td>69.3</td>\n",
       "      <td>9.3</td>\n",
       "    </tr>\n",
       "    <tr>\n",
       "      <th>3</th>\n",
       "      <td>151.5</td>\n",
       "      <td>41.3</td>\n",
       "      <td>58.5</td>\n",
       "      <td>18.5</td>\n",
       "    </tr>\n",
       "    <tr>\n",
       "      <th>4</th>\n",
       "      <td>180.8</td>\n",
       "      <td>10.8</td>\n",
       "      <td>58.4</td>\n",
       "      <td>12.9</td>\n",
       "    </tr>\n",
       "  </tbody>\n",
       "</table>\n",
       "</div>"
      ],
      "text/plain": [
       "      TV  radio  newspaper  sales\n",
       "0  230.1   37.8       69.2   22.1\n",
       "1   44.5   39.3       45.1   10.4\n",
       "2   17.2   45.9       69.3    9.3\n",
       "3  151.5   41.3       58.5   18.5\n",
       "4  180.8   10.8       58.4   12.9"
      ]
     },
     "execution_count": 10,
     "metadata": {},
     "output_type": "execute_result"
    }
   ],
   "source": [
    "df = pd.read_csv('advertising.csv')\n",
    "\n",
    "df.drop('Unnamed: 0', inplace=True, axis=1)\n",
    "\n",
    "df.head()"
   ]
  },
  {
   "cell_type": "markdown",
   "metadata": {},
   "source": [
    "### 2. Aplicando a Regressão Linear Simples e reportando os coeficientes"
   ]
  },
  {
   "cell_type": "code",
   "execution_count": 11,
   "metadata": {},
   "outputs": [],
   "source": [
    "SLR = SimpleLinearRegression()"
   ]
  },
  {
   "cell_type": "code",
   "execution_count": 12,
   "metadata": {},
   "outputs": [],
   "source": [
    "X_tv = df['TV'].values\n",
    "X_radio = df['radio'].values\n",
    "X_newsp = df['newspaper'].values\n",
    "\n",
    "y_sales = df['sales'].values"
   ]
  },
  {
   "cell_type": "markdown",
   "metadata": {},
   "source": [
    "#### TV contra Sales"
   ]
  },
  {
   "cell_type": "code",
   "execution_count": 13,
   "metadata": {},
   "outputs": [
    {
     "data": {
      "image/png": "[encoded data removed]",
      "text/plain": [
       "<Figure size 432x288 with 1 Axes>"
      ]
     },
     "metadata": {
      "needs_background": "light"
     },
     "output_type": "display_data"
    }
   ],
   "source": [
    "plot_graphic(X_tv, y_sales, 'TV', 'Sales')"
   ]
  },
  {
   "cell_type": "code",
   "execution_count": 14,
   "metadata": {},
   "outputs": [],
   "source": [
    "SLR.fit(X_tv, y_sales)"
   ]
  },
  {
   "cell_type": "code",
   "execution_count": 15,
   "metadata": {
    "scrolled": true
   },
   "outputs": [
    {
     "data": {
      "image/png": "[encoded data removed]",
      "text/plain": [
       "<Figure size 432x288 with 1 Axes>"
      ]
     },
     "metadata": {
      "needs_background": "light"
     },
     "output_type": "display_data"
    }
   ],
   "source": [
    "y_pred_tv_sales = SLR.predict(X_tv)\n",
    "\n",
    "plot_linear_regression(X_tv, y_sales, y_pred_tv_sales, 'TV', 'Sales')"
   ]
  },
  {
   "cell_type": "code",
   "execution_count": 16,
   "metadata": {},
   "outputs": [
    {
     "data": {
      "text/plain": [
       "[7.032593549127699, 0.04753664043301972]"
      ]
     },
     "execution_count": 16,
     "metadata": {},
     "output_type": "execute_result"
    }
   ],
   "source": [
    "SLR.coef_()"
   ]
  },
  {
   "cell_type": "markdown",
   "metadata": {},
   "source": [
    "#### Variável Radio contra Sales"
   ]
  },
  {
   "cell_type": "code",
   "execution_count": 17,
   "metadata": {},
   "outputs": [
    {
     "data": {
      "image/png": "[encoded data removed]",
      "text/plain": [
       "<Figure size 432x288 with 1 Axes>"
      ]
     },
     "metadata": {
      "needs_background": "light"
     },
     "output_type": "display_data"
    }
   ],
   "source": [
    "plot_graphic(X_radio, y_sales, 'Radio', 'Sales')"
   ]
  },
  {
   "cell_type": "code",
   "execution_count": 18,
   "metadata": {},
   "outputs": [],
   "source": [
    "SLR.fit(X_radio, y_sales)"
   ]
  },
  {
   "cell_type": "code",
   "execution_count": 19,
   "metadata": {},
   "outputs": [
    {
     "data": {
      "image/png": "[encoded data removed]",
      "text/plain": [
       "<Figure size 432x288 with 1 Axes>"
      ]
     },
     "metadata": {
      "needs_background": "light"
     },
     "output_type": "display_data"
    }
   ],
   "source": [
    "y_pred_radio_sales = SLR.predict(X_radio)\n",
    "\n",
    "plot_linear_regression(X_radio, y_sales, y_pred_radio_sales, 'Radio', 'Sales')"
   ]
  },
  {
   "cell_type": "code",
   "execution_count": 20,
   "metadata": {},
   "outputs": [
    {
     "data": {
      "text/plain": [
       "[9.311638095158287, 0.2024957833924395]"
      ]
     },
     "execution_count": 20,
     "metadata": {},
     "output_type": "execute_result"
    }
   ],
   "source": [
    "SLR.coef_()"
   ]
  },
  {
   "cell_type": "markdown",
   "metadata": {},
   "source": [
    "#### Variável Newspaper contra Sales"
   ]
  },
  {
   "cell_type": "code",
   "execution_count": 21,
   "metadata": {},
   "outputs": [
    {
     "data": {
      "image/png": "[encoded data removed]",
      "text/plain": [
       "<Figure size 432x288 with 1 Axes>"
      ]
     },
     "metadata": {
      "needs_background": "light"
     },
     "output_type": "display_data"
    }
   ],
   "source": [
    "plot_graphic(X_newsp, y_sales, 'Newspaper', 'Sales')"
   ]
  },
  {
   "cell_type": "code",
   "execution_count": 22,
   "metadata": {},
   "outputs": [],
   "source": [
    "SLR.fit(X_newsp, y_sales)"
   ]
  },
  {
   "cell_type": "code",
   "execution_count": 23,
   "metadata": {},
   "outputs": [
    {
     "data": {
      "image/png": "[encoded data removed]",
      "text/plain": [
       "<Figure size 432x288 with 1 Axes>"
      ]
     },
     "metadata": {
      "needs_background": "light"
     },
     "output_type": "display_data"
    }
   ],
   "source": [
    "y_pred_newsp_sales = SLR.predict(X_newsp)\n",
    "\n",
    "plot_linear_regression(X_newsp, y_sales, y_pred_newsp_sales, 'Newspaper', 'Sales')"
   ]
  },
  {
   "cell_type": "code",
   "execution_count": 24,
   "metadata": {},
   "outputs": [
    {
     "data": {
      "text/plain": [
       "[12.351407069278157, 0.05469309847227348]"
      ]
     },
     "execution_count": 24,
     "metadata": {},
     "output_type": "execute_result"
    }
   ],
   "source": [
    "SLR.coef_()"
   ]
  },
  {
   "cell_type": "markdown",
   "metadata": {},
   "source": [
    "### 2.1 Reporte as métricas RSS, RSE, R2 e MAE"
   ]
  },
  {
   "cell_type": "markdown",
   "metadata": {},
   "source": [
    "#### TV contra Sales"
   ]
  },
  {
   "cell_type": "code",
   "execution_count": 25,
   "metadata": {},
   "outputs": [
    {
     "data": {
      "text/plain": [
       "{'RSS': 2102.5305831313517,\n",
       " 'RSE': 2.917645097618413,\n",
       " 'R2': 0.611875050850071,\n",
       " 'MAE': 2.5498060389274864}"
      ]
     },
     "execution_count": 25,
     "metadata": {},
     "output_type": "execute_result"
    }
   ],
   "source": [
    "tv_sales = {\n",
    "    'RSS': RSS(y_sales, y_pred_tv_sales),\n",
    "    'RSE': RSE(y_sales, y_pred_tv_sales),\n",
    "    'R2': R2(y_sales, y_pred_tv_sales),\n",
    "    'MAE': MAE(y_sales, y_pred_tv_sales)\n",
    "}\n",
    "\n",
    "tv_sales"
   ]
  },
  {
   "cell_type": "markdown",
   "metadata": {},
   "source": [
    "#### Variável Radio contra Sales"
   ]
  },
  {
   "cell_type": "code",
   "execution_count": 26,
   "metadata": {},
   "outputs": [
    {
     "data": {
      "text/plain": [
       "{'RSS': 3618.479549025088,\n",
       " 'RSE': 4.011533091615403,\n",
       " 'R2': 0.33203245544529525,\n",
       " 'MAE': 3.3202187976420667}"
      ]
     },
     "execution_count": 26,
     "metadata": {},
     "output_type": "execute_result"
    }
   ],
   "source": [
    "radio_sales = {\n",
    "    'RSS': RSS(y_sales, y_pred_radio_sales),\n",
    "    'RSE': RSE(y_sales, y_pred_radio_sales),\n",
    "    'R2': R2(y_sales, y_pred_radio_sales),\n",
    "    'MAE': MAE(y_sales, y_pred_radio_sales)\n",
    "}\n",
    "\n",
    "radio_sales"
   ]
  },
  {
   "cell_type": "markdown",
   "metadata": {},
   "source": [
    "#### Variável Newspaper contra Sales"
   ]
  },
  {
   "cell_type": "code",
   "execution_count": 27,
   "metadata": {},
   "outputs": [
    {
     "data": {
      "text/plain": [
       "{'RSS': 5134.804544111939,\n",
       " 'RSE': 4.865595823797913,\n",
       " 'R2': 0.05212044544430516,\n",
       " 'MAE': 4.1465597438384885}"
      ]
     },
     "execution_count": 27,
     "metadata": {},
     "output_type": "execute_result"
    }
   ],
   "source": [
    "newsp_sales = {\n",
    "    'RSS': RSS(y_sales, y_pred_newsp_sales),\n",
    "    'RSE': RSE(y_sales, y_pred_newsp_sales),\n",
    "    'R2': R2(y_sales, y_pred_newsp_sales),\n",
    "    'MAE': MAE(y_sales, y_pred_newsp_sales)\n",
    "}\n",
    "\n",
    "newsp_sales"
   ]
  },
  {
   "cell_type": "markdown",
   "metadata": {},
   "source": [
    "### 3. Aplicando a Regressão Linear Múltipla e reportando os coeficientes"
   ]
  },
  {
   "cell_type": "code",
   "execution_count": 28,
   "metadata": {},
   "outputs": [
    {
     "data": {
      "text/plain": [
       "((200, 3), (200,))"
      ]
     },
     "execution_count": 28,
     "metadata": {},
     "output_type": "execute_result"
    }
   ],
   "source": [
    "X = df[['TV', 'radio', 'newspaper']]\n",
    "y = df['sales']\n",
    "\n",
    "X.shape, y.shape"
   ]
  },
  {
   "cell_type": "code",
   "execution_count": 29,
   "metadata": {},
   "outputs": [],
   "source": [
    "LR = LinearRegression()"
   ]
  },
  {
   "cell_type": "code",
   "execution_count": 30,
   "metadata": {},
   "outputs": [],
   "source": [
    "LR.fit(X, y)"
   ]
  },
  {
   "cell_type": "code",
   "execution_count": 31,
   "metadata": {},
   "outputs": [],
   "source": [
    "y_pred = LR.predict(X)"
   ]
  },
  {
   "cell_type": "code",
   "execution_count": 32,
   "metadata": {},
   "outputs": [
    {
     "data": {
      "text/plain": [
       "array([ 2.93888937e+00,  4.57646455e-02,  1.88530017e-01, -1.03749304e-03])"
      ]
     },
     "execution_count": 32,
     "metadata": {},
     "output_type": "execute_result"
    }
   ],
   "source": [
    "LR.coef_()"
   ]
  },
  {
   "cell_type": "code",
   "execution_count": 33,
   "metadata": {},
   "outputs": [
    {
     "data": {
      "text/plain": [
       "{'RSS': 556.8252629021872,\n",
       " 'RSE': 0.8855090708236343,\n",
       " 'R2': 0.8972106381789522,\n",
       " 'MAE': 1.2520112296869497}"
      ]
     },
     "execution_count": 33,
     "metadata": {},
     "output_type": "execute_result"
    }
   ],
   "source": [
    "metrics = {\n",
    "    'RSS': RSS(y, y_pred),\n",
    "    'RSE': RSE(y, y_pred),\n",
    "    'R2': R2(y, y_pred),\n",
    "    'MAE': MAE(y, y_pred)\n",
    "}\n",
    "\n",
    "metrics"
   ]
  }
 ],
 "metadata": {
  "kernelspec": {
   "display_name": "Python 3",
   "language": "python",
   "name": "python3"
  },
  "language_info": {
   "codemirror_mode": {
    "name": "ipython",
    "version": 3
   },
   "file_extension": ".py",
   "mimetype": "text/x-python",
   "name": "python",
   "nbconvert_exporter": "python",
   "pygments_lexer": "ipython3",
   "version": "3.8.2"
  }
 },
 "nbformat": 4,
 "nbformat_minor": 4
}
