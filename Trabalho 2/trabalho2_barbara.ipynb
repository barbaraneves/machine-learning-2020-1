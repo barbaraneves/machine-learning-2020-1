{
 "cells": [
  {
   "cell_type": "markdown",
   "metadata": {},
   "source": [
    "# Trabalho 2 de Aprendizado de Máquina\n",
    "\n",
    "Trabalho sobre Classificadores.\n",
    "\n",
    "- **Aluna:** Bárbara Neves\n",
    "- **Matrícula:** 388713"
   ]
  },
  {
   "cell_type": "markdown",
   "metadata": {},
   "source": [
    "## Bibliotecas"
   ]
  },
  {
   "cell_type": "code",
   "execution_count": 1,
   "metadata": {},
   "outputs": [],
   "source": [
    "import numpy as np\n",
    "import pandas as pd\n",
    "\n",
    "import matplotlib.pyplot as plt\n",
    "from sklearn.model_selection import train_test_split\n",
    "from sklearn.metrics import confusion_matrix\n",
    "from sklearn.preprocessing import StandardScaler"
   ]
  },
  {
   "cell_type": "markdown",
   "metadata": {},
   "source": [
    "## Implementação"
   ]
  },
  {
   "cell_type": "markdown",
   "metadata": {},
   "source": [
    "### 1. Métodos"
   ]
  },
  {
   "cell_type": "markdown",
   "metadata": {},
   "source": [
    "#### a. Regressão Logística – Gradiente Descendente"
   ]
  },
  {
   "cell_type": "code",
   "execution_count": 2,
   "metadata": {},
   "outputs": [],
   "source": [
    "class LogisticRegression():\n",
    "    def __init__(self):\n",
    "        pass\n",
    "    \n",
    "    # Calcula o y_pred\n",
    "    def logistic_function(self, B, X):\n",
    "        return 1/(1 + np.exp(-X @ B))\n",
    "\n",
    "    # Calcula a função de loss/custo\n",
    "    def logistic_loss(self, y, y_pred):\n",
    "        return np.mean(-y * np.log(y_pred) - (1 - y)*np.log(1 - y_pred)) \n",
    "\n",
    "    def fit(self, X, y, epochs, alpha):\n",
    "        n = X.shape[0]           \n",
    "        loss = [] \n",
    "        \n",
    "        if len(y.shape) == 1:   \n",
    "            y = y[:, None]\n",
    "        \n",
    "        B = np.zeros((X.shape[1], y.shape[1]))\n",
    "                  \n",
    "        for epoch in range(epochs):\n",
    "            y_pred = self.logistic_function(B, X) \n",
    "            ei = y - y_pred   \n",
    "                  \n",
    "            B += alpha * np.sum(X.T @ ei)/n\n",
    "            loss.append(self.logistic_loss(y, y_pred)) \n",
    "                  \n",
    "        self.B = B\n",
    "        self.loss = loss\n",
    "\n",
    "    def predict(self, X):\n",
    "        y_pred = self.logistic_function(self.B, X)\n",
    "        \n",
    "        return [1 if i > 0.55 else 0 for i in y_pred] #Convertendo as probabilidades para 0's e 1's\n",
    "                  \n",
    "    def loss_history(self):\n",
    "        return self.loss"
   ]
  },
  {
   "cell_type": "markdown",
   "metadata": {},
   "source": [
    "#### b. Naive Bayes Gaussiano "
   ]
  },
  {
   "cell_type": "code",
   "execution_count": 3,
   "metadata": {},
   "outputs": [],
   "source": [
    "class GaussianNB():\n",
    "    def __init__(self):\n",
    "        pass \n",
    "\n",
    "    def fit(self, X, y):\n",
    "        classes = np.unique(y)\n",
    "        K = classes.shape[0]\n",
    "        D = X.shape[1]\n",
    "        class_prior = np.array([np.sum(y == k) for k in classes])/y.shape[0] #Proporção das classes\n",
    "\n",
    "        mu = np.zeros((D, K))\n",
    "        var = np.zeros((D, K)) #Variância\n",
    "        \n",
    "        for k in classes:\n",
    "            k = int(k)\n",
    "            x_k = X[y == k]\n",
    "            mu[:, k] = np.mean(x_k, axis=0)\n",
    "            var[:, k] = np.sum((x_k - mu[:, k])**2, axis=0) / x_k.shape[0]\n",
    "            var[:, k] += np.mean(var[:, k]) * 10 ** -6\n",
    "\n",
    "        model = {'classes': classes, 'K': K, 'D': D, 'class_prior': class_prior,\n",
    "                 'mu': mu, 'var': var}\n",
    "\n",
    "        self.model = model\n",
    "\n",
    "    def predict(self, X):\n",
    "        pred = []\n",
    "        \n",
    "        for i in range(X.shape[0]):\n",
    "            prob_k = []\n",
    "            for k in range(self.model['K']):\n",
    "                prob_k.append(- 0.5 * np.sum(np.log(2 * np.pi * self.model['var'][:,k])) \\\n",
    "                     - 0.5 * np.sum((X[i,:] - self.model['mu'][:, k])**2 / self.model['var'][:, k]) \\\n",
    "                     + self.model['class_prior'][k])\n",
    "\n",
    "            pred.append(self.model['classes'][np.argmax(prob_k)])\n",
    "\n",
    "        return pred   "
   ]
  },
  {
   "cell_type": "markdown",
   "metadata": {},
   "source": [
    "#### c. Discriminante Quadrático Gaussiano"
   ]
  },
  {
   "cell_type": "code",
   "execution_count": 4,
   "metadata": {},
   "outputs": [],
   "source": [
    "class GaussianQD():\n",
    "    def __init__(self):\n",
    "        pass \n",
    "\n",
    "    def fit(self, X, y):\n",
    "        classes = np.unique(y)\n",
    "        K = classes.shape[0]\n",
    "        D = X.shape[1]\n",
    "        class_prior = np.array([np.sum(y == k) for k in classes])/y.shape[0] #Proporção das classes\n",
    "\n",
    "        mu = np.zeros((D, K))\n",
    "        var = np.zeros((D, D, K)) #Variância\n",
    "        \n",
    "        for k in classes:\n",
    "            k = int(k)\n",
    "            x_k = X[y == k]\n",
    "            mu[:, k] = np.mean(x_k, axis=0)\n",
    "            var[:, :, k] = (x_k - mu[:, k]).T @ (x_k - mu[:, k]) / x_k.shape[0]\n",
    "            var[:, :, k] += np.eye(D) * np.mean(np.diag(var[:, :, k])) * 10 ** -6\n",
    "\n",
    "        model = {'classes': classes, 'K': K, 'D': D, 'class_prior': class_prior,\n",
    "                 'mu': mu, 'var': var}\n",
    "\n",
    "        self.model = model\n",
    "\n",
    "    def predict(self, X):\n",
    "        pred = []\n",
    "        \n",
    "        for i in range(X.shape[0]):\n",
    "            prob_k = []\n",
    "            for k in range(self.model['K']):\n",
    "                prob_k.append(- 0.5 * np.log(np.linalg.det(self.model['var'][:, :, k])) \\\n",
    "                     - 0.5 * (X[i, :] - self.model['mu'][:, k]).T @ np.linalg.inv(self.model['var'][:, :, k]) @ (X[i, :] - self.model['mu'][:, k]) \\\n",
    "                     + self.model['class_prior'][k])\n",
    "\n",
    "            pred.append(self.model['classes'][np.argmax(prob_k)])\n",
    "\n",
    "        return pred  "
   ]
  },
  {
   "cell_type": "markdown",
   "metadata": {},
   "source": [
    "### 2. Função de acurácia"
   ]
  },
  {
   "cell_type": "code",
   "execution_count": 5,
   "metadata": {},
   "outputs": [],
   "source": [
    "def accuracy_score(y_real, y_pred):\n",
    "    return np.sum(y_pred == y_real)/y_real.shape[0]"
   ]
  },
  {
   "cell_type": "markdown",
   "metadata": {},
   "source": [
    "### 3. Matriz de confusão "
   ]
  },
  {
   "cell_type": "code",
   "execution_count": 6,
   "metadata": {},
   "outputs": [],
   "source": [
    "def plot_confusion_matrix(y_true, y_pred, title, cmap=plt.cm.Reds):\n",
    "    cm = confusion_matrix(y_true, y_pred) #Computar a matrix de confusão\n",
    "    classes = [int(i) for i in np.unique(y_true)] #Classes\n",
    "\n",
    "    fig, ax = plt.subplots(figsize=(8, 5))\n",
    "    im = ax.imshow(cm, interpolation='nearest', cmap=cmap)\n",
    "    ax.figure.colorbar(im, ax=ax)\n",
    "\n",
    "    ax.set(xticks=np.arange(cm.shape[1]),\n",
    "           yticks=np.arange(cm.shape[0]),\n",
    "           xticklabels=classes, \n",
    "           yticklabels=classes,\n",
    "           title=title,\n",
    "           ylabel='Verdadeiros',\n",
    "           xlabel='Preditos')\n",
    "\n",
    "    plt.setp(ax.get_xticklabels(), rotation=45, ha=\"right\",\n",
    "             rotation_mode=\"anchor\")\n",
    "\n",
    "    thresh = cm.max() / 2.0\n",
    "    for i in range(cm.shape[0]):\n",
    "        for j in range(cm.shape[1]):\n",
    "            ax.text(j, i, format(cm[i, j], 'd'), ha=\"center\", va=\"center\",\n",
    "                    color=\"white\" if cm[i, j] > thresh else \"black\")\n",
    "    fig.tight_layout()\n",
    "    \n",
    "    return ax"
   ]
  },
  {
   "cell_type": "markdown",
   "metadata": {},
   "source": [
    "### 4. Gráfico de dispersão com fronteira de separação"
   ]
  },
  {
   "cell_type": "code",
   "execution_count": 7,
   "metadata": {},
   "outputs": [],
   "source": [
    "def plot_boundaries(X, y, clf, title, cmap=plt.cm.YlOrRd):\n",
    "    markers = ('o', 'x')\n",
    "    colors = ('firebrick', 'black')\n",
    "\n",
    "    x_min, x_max = X[:, 0].min() - 1, X[:, 0].max() + 1\n",
    "    y_min, y_max = X[:, 1].min() - 1, X[:, 1].max() + 1\n",
    "    xx, yy = np.meshgrid(np.arange(x_min, x_max, 0.02),\n",
    "                         np.arange(y_min, y_max, 0.02))\n",
    "    \n",
    "    Z = clf.predict(np.array([xx.ravel(), yy.ravel()]).T)\n",
    "    Z = np.array(Z).reshape(xx.shape)\n",
    "    \n",
    "    plt.figure(figsize=(8, 5))\n",
    "    plt.title(label=title)\n",
    "    plt.contourf(xx, yy, Z, alpha=0.3, cmap=cmap)\n",
    "    plt.xlim(xx.min(), xx.max())\n",
    "    plt.ylim(yy.min(), yy.max())\n",
    "\n",
    "    for idx, cl in enumerate(np.unique(y)):\n",
    "        plt.scatter(x=X[y == cl, 0], \n",
    "                    y=X[y == cl, 1], \n",
    "                    c=colors[idx],\n",
    "                    marker=markers[idx], \n",
    "                    label='Class ' + str(int(cl)), \n",
    "                    edgecolor='black')\n",
    "    plt.legend()\n",
    "    plt.show()"
   ]
  },
  {
   "cell_type": "markdown",
   "metadata": {},
   "source": [
    "### *5 (Extra). Visualização da Loss"
   ]
  },
  {
   "cell_type": "code",
   "execution_count": 8,
   "metadata": {},
   "outputs": [],
   "source": [
    "def plot_loss_path(loss, title=None):\n",
    "    plt.figure(figsize=(10, 5))\n",
    "    \n",
    "    plt.rcParams.update({'font.size': 14})\n",
    "    plt.plot(range(1, len(loss)+1), loss, '-k', color='firebrick')\n",
    "    \n",
    "    plt.xlabel('Épocas', fontsize=14)\n",
    "    plt.ylabel('Loss', fontsize=14)\n",
    "    \n",
    "    if title is not None:\n",
    "        plt.title(title, fontsize=14)        \n",
    "        \n",
    "    plt.show()"
   ]
  },
  {
   "cell_type": "markdown",
   "metadata": {},
   "source": [
    "## Conjunto de dados\n",
    "### 1. Leitura do conjunto de dados: ``` trab2.data ```"
   ]
  },
  {
   "cell_type": "code",
   "execution_count": 9,
   "metadata": {},
   "outputs": [
    {
     "data": {
      "text/html": [
       "<div>\n",
       "<style scoped>\n",
       "    .dataframe tbody tr th:only-of-type {\n",
       "        vertical-align: middle;\n",
       "    }\n",
       "\n",
       "    .dataframe tbody tr th {\n",
       "        vertical-align: top;\n",
       "    }\n",
       "\n",
       "    .dataframe thead th {\n",
       "        text-align: right;\n",
       "    }\n",
       "</style>\n",
       "<table border=\"1\" class=\"dataframe\">\n",
       "  <thead>\n",
       "    <tr style=\"text-align: right;\">\n",
       "      <th></th>\n",
       "      <th>X_0</th>\n",
       "      <th>X_1</th>\n",
       "      <th>y</th>\n",
       "    </tr>\n",
       "  </thead>\n",
       "  <tbody>\n",
       "    <tr>\n",
       "      <th>0</th>\n",
       "      <td>34.623660</td>\n",
       "      <td>78.024693</td>\n",
       "      <td>0.0</td>\n",
       "    </tr>\n",
       "    <tr>\n",
       "      <th>1</th>\n",
       "      <td>30.286711</td>\n",
       "      <td>43.894998</td>\n",
       "      <td>0.0</td>\n",
       "    </tr>\n",
       "    <tr>\n",
       "      <th>2</th>\n",
       "      <td>35.847409</td>\n",
       "      <td>72.902198</td>\n",
       "      <td>0.0</td>\n",
       "    </tr>\n",
       "    <tr>\n",
       "      <th>3</th>\n",
       "      <td>60.182599</td>\n",
       "      <td>86.308552</td>\n",
       "      <td>1.0</td>\n",
       "    </tr>\n",
       "    <tr>\n",
       "      <th>4</th>\n",
       "      <td>79.032736</td>\n",
       "      <td>75.344376</td>\n",
       "      <td>1.0</td>\n",
       "    </tr>\n",
       "  </tbody>\n",
       "</table>\n",
       "</div>"
      ],
      "text/plain": [
       "         X_0        X_1    y\n",
       "0  34.623660  78.024693  0.0\n",
       "1  30.286711  43.894998  0.0\n",
       "2  35.847409  72.902198  0.0\n",
       "3  60.182599  86.308552  1.0\n",
       "4  79.032736  75.344376  1.0"
      ]
     },
     "execution_count": 9,
     "metadata": {},
     "output_type": "execute_result"
    }
   ],
   "source": [
    "df = pd.DataFrame(columns=['X_0', 'X_1', 'y'])\n",
    "\n",
    "with open('data_trab2/ex2data1.txt', 'r') as f: \n",
    "    for line in f:\n",
    "        try:\n",
    "            line = float(line)\n",
    "        except ValueError:\n",
    "            pass\n",
    "        split_line = line.split(',')\n",
    "        df = df.append({\n",
    "            'X_0': float(split_line[0]),\n",
    "            'X_1': float(split_line[1]),\n",
    "            'y': float(split_line[2])\n",
    "        }, ignore_index=True)\n",
    "        \n",
    "df.head()"
   ]
  },
  {
   "cell_type": "markdown",
   "metadata": {},
   "source": [
    "### 2. X e y\n",
    "\n",
    "A duas primeiras colunas são as características (X) e a última coluna é a variável alvo (y)."
   ]
  },
  {
   "cell_type": "code",
   "execution_count": 10,
   "metadata": {},
   "outputs": [
    {
     "data": {
      "text/plain": [
       "((100, 2), (100,))"
      ]
     },
     "execution_count": 10,
     "metadata": {},
     "output_type": "execute_result"
    }
   ],
   "source": [
    "X = df.values[:, :-1]\n",
    "y = df.values[:, -1]\n",
    "\n",
    "X.shape, y.shape"
   ]
  },
  {
   "cell_type": "markdown",
   "metadata": {},
   "source": [
    "### 3. Divisão do conjunto de dados\n",
    "\n",
    "Dividindo o conjunto de dados em 70% para treino e 30% para teste."
   ]
  },
  {
   "cell_type": "code",
   "execution_count": 11,
   "metadata": {},
   "outputs": [
    {
     "data": {
      "text/plain": [
       "(((70, 2), (70,)), ((30, 2), (30,)))"
      ]
     },
     "execution_count": 11,
     "metadata": {},
     "output_type": "execute_result"
    }
   ],
   "source": [
    "X_train, X_test, y_train, y_test = train_test_split(X, y, test_size=0.3, random_state=42)\n",
    "\n",
    "(X_train.shape, y_train.shape), (X_test.shape, y_test.shape)"
   ]
  },
  {
   "cell_type": "markdown",
   "metadata": {},
   "source": [
    "#### Normalização dos dados\n",
    "\n",
    "Resolvi normalizar os dados apenas para demorar um pouco menos na geração dos gráficos de dispersão. Não teve nada a ver com otimizar a performance dos modelos (na verdade, ela continua a mesma mesmo com a normalização)."
   ]
  },
  {
   "cell_type": "code",
   "execution_count": 12,
   "metadata": {},
   "outputs": [],
   "source": [
    "scaler = StandardScaler()\n",
    "\n",
    "scaler.fit(X_train)\n",
    "\n",
    "X_train = scaler.transform(X_train)\n",
    "X_test = scaler.transform(X_test)"
   ]
  },
  {
   "cell_type": "markdown",
   "metadata": {},
   "source": [
    "## Relatório\n",
    "\n",
    "### 1. Executar cada um dos modelos de classificação"
   ]
  },
  {
   "cell_type": "markdown",
   "metadata": {},
   "source": [
    "#### Regressão Logística – Gradiente Descendente\n",
    "\n",
    "Dado a experiência tida com o trabalho anterior, preferi escolher a quantidade das **épocas** e da **taxa de aprendizado (α)** analizando a função de custo. "
   ]
  },
  {
   "cell_type": "code",
   "execution_count": 13,
   "metadata": {},
   "outputs": [
    {
     "name": "stdout",
     "output_type": "stream",
     "text": [
      "[LogisticRegression] Melhor modelo encontrado: alpha=0.0001\n"
     ]
    }
   ],
   "source": [
    "# Analisando melhor alpha\n",
    "np.seterr(divide='ignore', invalid='ignore', over='ignore')\n",
    "\n",
    "epochs = 100000\n",
    "grid_search = np.logspace(-4, 0, 11) # Alpha\n",
    "val_list = []\n",
    "\n",
    "for i in range(grid_search.shape[0]):\n",
    "    alpha = grid_search[i]\n",
    "\n",
    "    LR_model = LogisticRegression() \n",
    "    LR_model.fit(X_train, y_train, epochs=epochs, alpha=alpha)\n",
    "    \n",
    "    y_pred = np.argmax(LR_model.predict(X_test))\n",
    "    \n",
    "    wrong_index_val = y_test != y_pred\n",
    "    val_list.append(np.mean(wrong_index_val))\n",
    "\n",
    "best_alpha = grid_search[np.argmin(val_list)] \n",
    "print(\"[LogisticRegression] Melhor modelo encontrado: alpha={}\".format(best_alpha))"
   ]
  },
  {
   "cell_type": "code",
   "execution_count": 14,
   "metadata": {},
   "outputs": [
    {
     "data": {
      "image/png": "[encoded data removed]",
      "text/plain": [
       "<Figure size 720x360 with 1 Axes>"
      ]
     },
     "metadata": {
      "needs_background": "light"
     },
     "output_type": "display_data"
    }
   ],
   "source": [
    "cls_models = {\n",
    "    'LR': LogisticRegression()\n",
    "}\n",
    "\n",
    "cls_models['LR'].fit(X_train, y_train, epochs=epochs, alpha=best_alpha)\n",
    "\n",
    "plot_loss_path(cls_models['LR'].loss_history(), 'Função de custo ao longo das iterações do GD')"
   ]
  },
  {
   "cell_type": "markdown",
   "metadata": {},
   "source": [
    "#### Naive Bayes Gaussiano e Discriminante Quadrático Gaussiano"
   ]
  },
  {
   "cell_type": "code",
   "execution_count": 15,
   "metadata": {},
   "outputs": [],
   "source": [
    "cls_models['GNB'] = GaussianNB()\n",
    "cls_models['GQD'] = GaussianQD()\n",
    "\n",
    "for k, v in cls_models.items():\n",
    "    if(k != 'LR'):\n",
    "        v.fit(X_train, y_train)"
   ]
  },
  {
   "cell_type": "markdown",
   "metadata": {},
   "source": [
    "#### Predições"
   ]
  },
  {
   "cell_type": "code",
   "execution_count": 16,
   "metadata": {},
   "outputs": [
    {
     "data": {
      "text/plain": [
       "dict_keys(['y_pred_LR', 'y_pred_GNB', 'y_pred_GQD'])"
      ]
     },
     "execution_count": 16,
     "metadata": {},
     "output_type": "execute_result"
    }
   ],
   "source": [
    "predictions = {'y_pred_' + k: v.predict(X_test) for k, v in cls_models.items()}\n",
    "\n",
    "predictions.keys()"
   ]
  },
  {
   "cell_type": "code",
   "execution_count": 17,
   "metadata": {},
   "outputs": [
    {
     "name": "stdout",
     "output_type": "stream",
     "text": [
      "Taxas de erro para o conjunto de teste:\n",
      "[LR] = 26.666666666666668\n",
      "[GNB] = 20.0\n",
      "[GQD] = 20.0\n"
     ]
    }
   ],
   "source": [
    "print('Taxas de erro para o conjunto de teste:')\n",
    "for i, j in zip(cls_models, predictions):\n",
    "    wrong_index_test = predictions[j] != y_test\n",
    "    print('[{}] = {}'.format(i, 100*np.mean(wrong_index_test)))"
   ]
  },
  {
   "cell_type": "markdown",
   "metadata": {},
   "source": [
    "#### a. Acurácias"
   ]
  },
  {
   "cell_type": "code",
   "execution_count": 18,
   "metadata": {},
   "outputs": [
    {
     "name": "stdout",
     "output_type": "stream",
     "text": [
      "Acurácias:\n",
      "LR = 0.7333333333333333\n",
      "GNB = 0.8\n",
      "GQD = 0.8\n"
     ]
    }
   ],
   "source": [
    "accs = {i: accuracy_score(y_test, predictions[j]) for i, j in zip(cls_models, predictions)}\n",
    "\n",
    "print('Acurácias:')\n",
    "for k, v in accs.items():\n",
    "    print('{} = {}'.format(k, v))"
   ]
  },
  {
   "cell_type": "markdown",
   "metadata": {},
   "source": [
    "#### b. Matrizes de confusão"
   ]
  },
  {
   "cell_type": "code",
   "execution_count": 19,
   "metadata": {},
   "outputs": [
    {
     "data": {
      "image/png": "[encoded data removed]",
      "text/plain": [
       "<Figure size 576x360 with 2 Axes>"
      ]
     },
     "metadata": {
      "needs_background": "light"
     },
     "output_type": "display_data"
    },
    {
     "data": {
      "image/png": "[encoded data removed]",
      "text/plain": [
       "<Figure size 576x360 with 2 Axes>"
      ]
     },
     "metadata": {
      "needs_background": "light"
     },
     "output_type": "display_data"
    },
    {
     "data": {
      "image/png": "[encoded data removed]",
      "text/plain": [
       "<Figure size 576x360 with 2 Axes>"
      ]
     },
     "metadata": {
      "needs_background": "light"
     },
     "output_type": "display_data"
    }
   ],
   "source": [
    "for i, j in zip(cls_models, predictions):\n",
    "    plot_confusion_matrix(y_test, predictions[j], title='Matriz de Confusão - ' + i);"
   ]
  },
  {
   "cell_type": "markdown",
   "metadata": {},
   "source": [
    "#### c. Gráficos de dispersão com fronteiras de separação"
   ]
  },
  {
   "cell_type": "code",
   "execution_count": 21,
   "metadata": {
    "scrolled": true
   },
   "outputs": [
    {
     "data": {
      "image/png": "[encoded data removed]",
      "text/plain": [
       "<Figure size 576x360 with 1 Axes>"
      ]
     },
     "metadata": {
      "needs_background": "light"
     },
     "output_type": "display_data"
    },
    {
     "data": {
      "image/png": "[encoded data removed]",
      "text/plain": [
       "<Figure size 576x360 with 1 Axes>"
      ]
     },
     "metadata": {
      "needs_background": "light"
     },
     "output_type": "display_data"
    },
    {
     "data": {
      "image/png": "[encoded data removed]",
      "text/plain": [
       "<Figure size 576x360 with 1 Axes>"
      ]
     },
     "metadata": {
      "needs_background": "light"
     },
     "output_type": "display_data"
    }
   ],
   "source": [
    "for k, v in cls_models.items():\n",
    "    plot_boundaries(X_test, y_test, v, title='Limites de Decisão - ' + k);"
   ]
  },
  {
   "cell_type": "markdown",
   "metadata": {},
   "source": [
    "### 2. O dado parece ser linearmente separável ou não?\n",
    "\n",
    "Não, os dados não parecem ser linearmente separáveis. Mesmo que o conjunto de dados tenha apenas 2 classes, os resultados obtidos para o modelos de classificação foram bons. Isso também pode ser constatado olhando os gráficos de dispersão, já que não é possível passar uma reta para fazer a delimitação de uma classe para a outra. "
   ]
  },
  {
   "cell_type": "markdown",
   "metadata": {},
   "source": [
    "### 3. Quais dos métodos produziu fronteiras lineares?\n",
    "\n",
    "De acordo com os gráficos de dispersão acima, o método que produziu uma fronteira linear (levemente curvada) foi a **Regressão Logística – Gradiente Descendente**."
   ]
  },
  {
   "cell_type": "markdown",
   "metadata": {},
   "source": [
    "### 4. Qual teve melhor acurácia?\n",
    "\n",
    "Dois modelos obtiveram o maior valor de acurácia (**80%**): \n",
    "- **Naive Bayes Gaussiano**; e,\n",
    "- **Discriminante Quadrático Gaussiano**."
   ]
  }
 ],
 "metadata": {
  "kernelspec": {
   "display_name": "Python 3",
   "language": "python",
   "name": "python3"
  },
  "language_info": {
   "codemirror_mode": {
    "name": "ipython",
    "version": 3
   },
   "file_extension": ".py",
   "mimetype": "text/x-python",
   "name": "python",
   "nbconvert_exporter": "python",
   "pygments_lexer": "ipython3",
   "version": "3.8.2"
  }
 },
 "nbformat": 4,
 "nbformat_minor": 4
}
