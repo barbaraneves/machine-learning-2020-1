{
 "cells": [
  {
   "cell_type": "markdown",
   "metadata": {},
   "source": [
    "# Trabalho 1 de Aprendizado de Máquina\n",
    "\n",
    "Trabalho sobre Regressão Linear Univariada, Multivariada e Regularizada.\n",
    "\n",
    "- **Aluna:** Bárbara Neves\n",
    "- **Matrícula:** 388713"
   ]
  },
  {
   "cell_type": "markdown",
   "metadata": {},
   "source": [
    "## Descrição \n",
    "\n",
    "1. A atividade permite o uso das bibliotecas Numpy e Matplotlib, mas não a Scikit-Learn. \n",
    "2. Os métodos devem ser implementados usando a interface mostrada em sala de aula (métodos fit e predict).\n",
    "3. Executar as seguintes tarefas de implementação e comentar o que se pede."
   ]
  },
  {
   "cell_type": "markdown",
   "metadata": {},
   "source": [
    "## Imports iniciais"
   ]
  },
  {
   "cell_type": "code",
   "execution_count": 1,
   "metadata": {},
   "outputs": [],
   "source": [
    "import numpy as np\n",
    "import pandas as pd\n",
    "\n",
    "import matplotlib.pyplot as plt\n",
    "from sklearn.model_selection import train_test_split\n",
    "\n",
    "# Importando os módulos das implementações feitas\n",
    "from modules import linear_models, metrics, utils"
   ]
  },
  {
   "cell_type": "markdown",
   "metadata": {},
   "source": [
    "## 1. Implementações dos métodos\n",
    "## 2. Implementações das funções de avaliação\n",
    "\n",
    "Foram criados 3 módulos (arquivos *``` .py ```*) para guardar as implementações solicitadas, além de outras funções criadas com o intuito de ajudar nas análises feitas neste trabalho. \n",
    "\n",
    "Os arquivos estão na pasta ``` modules/ ```, e a seguir estão os nomes e a descrição de cada um.\n",
    "\n",
    "- **``` metrics ```:** contém as implementações das métricas de erro. \n",
    "- **``` linear_models ```:** contém as implementações dos modelos lineares.\n",
    "- **``` utils ```:** contém as implementações extras para auxiliar nas análises, como funções para o plot de gráficos.\n",
    "\n",
    "O import desses arquivos foi feito acima a partir do seguinte comando: \n",
    "``` from modules import linear_models, metrics, utils ```"
   ]
  },
  {
   "cell_type": "markdown",
   "metadata": {},
   "source": [
    "## Análises\n",
    "## 3. Leitura do primeiro conjunto de dados: *Boston House Price*"
   ]
  },
  {
   "cell_type": "code",
   "execution_count": 2,
   "metadata": {
    "scrolled": true
   },
   "outputs": [
    {
     "data": {
      "text/html": [
       "<div>\n",
       "<style scoped>\n",
       "    .dataframe tbody tr th:only-of-type {\n",
       "        vertical-align: middle;\n",
       "    }\n",
       "\n",
       "    .dataframe tbody tr th {\n",
       "        vertical-align: top;\n",
       "    }\n",
       "\n",
       "    .dataframe thead th {\n",
       "        text-align: right;\n",
       "    }\n",
       "</style>\n",
       "<table border=\"1\" class=\"dataframe\">\n",
       "  <thead>\n",
       "    <tr style=\"text-align: right;\">\n",
       "      <th></th>\n",
       "      <th>CRIM</th>\n",
       "      <th>ZN</th>\n",
       "      <th>INDUS</th>\n",
       "      <th>CHAS</th>\n",
       "      <th>NOX</th>\n",
       "      <th>RM</th>\n",
       "      <th>AGE</th>\n",
       "      <th>DIS</th>\n",
       "      <th>RAD</th>\n",
       "      <th>TAX</th>\n",
       "      <th>PIRATIO</th>\n",
       "      <th>B</th>\n",
       "      <th>LSTAT</th>\n",
       "      <th>MEDV</th>\n",
       "    </tr>\n",
       "  </thead>\n",
       "  <tbody>\n",
       "    <tr>\n",
       "      <th>0</th>\n",
       "      <td>0.00632</td>\n",
       "      <td>18.0</td>\n",
       "      <td>2.31</td>\n",
       "      <td>0.0</td>\n",
       "      <td>0.538</td>\n",
       "      <td>6.575</td>\n",
       "      <td>65.2</td>\n",
       "      <td>4.0900</td>\n",
       "      <td>1.0</td>\n",
       "      <td>296.0</td>\n",
       "      <td>15.3</td>\n",
       "      <td>396.90</td>\n",
       "      <td>4.98</td>\n",
       "      <td>24.0</td>\n",
       "    </tr>\n",
       "    <tr>\n",
       "      <th>1</th>\n",
       "      <td>0.02731</td>\n",
       "      <td>0.0</td>\n",
       "      <td>7.07</td>\n",
       "      <td>0.0</td>\n",
       "      <td>0.469</td>\n",
       "      <td>6.421</td>\n",
       "      <td>78.9</td>\n",
       "      <td>4.9671</td>\n",
       "      <td>2.0</td>\n",
       "      <td>242.0</td>\n",
       "      <td>17.8</td>\n",
       "      <td>396.90</td>\n",
       "      <td>9.14</td>\n",
       "      <td>21.6</td>\n",
       "    </tr>\n",
       "    <tr>\n",
       "      <th>2</th>\n",
       "      <td>0.02729</td>\n",
       "      <td>0.0</td>\n",
       "      <td>7.07</td>\n",
       "      <td>0.0</td>\n",
       "      <td>0.469</td>\n",
       "      <td>7.185</td>\n",
       "      <td>61.1</td>\n",
       "      <td>4.9671</td>\n",
       "      <td>2.0</td>\n",
       "      <td>242.0</td>\n",
       "      <td>17.8</td>\n",
       "      <td>392.83</td>\n",
       "      <td>4.03</td>\n",
       "      <td>34.7</td>\n",
       "    </tr>\n",
       "    <tr>\n",
       "      <th>3</th>\n",
       "      <td>0.03237</td>\n",
       "      <td>0.0</td>\n",
       "      <td>2.18</td>\n",
       "      <td>0.0</td>\n",
       "      <td>0.458</td>\n",
       "      <td>6.998</td>\n",
       "      <td>45.8</td>\n",
       "      <td>6.0622</td>\n",
       "      <td>3.0</td>\n",
       "      <td>222.0</td>\n",
       "      <td>18.7</td>\n",
       "      <td>394.63</td>\n",
       "      <td>2.94</td>\n",
       "      <td>33.4</td>\n",
       "    </tr>\n",
       "    <tr>\n",
       "      <th>4</th>\n",
       "      <td>0.06905</td>\n",
       "      <td>0.0</td>\n",
       "      <td>2.18</td>\n",
       "      <td>0.0</td>\n",
       "      <td>0.458</td>\n",
       "      <td>7.147</td>\n",
       "      <td>54.2</td>\n",
       "      <td>6.0622</td>\n",
       "      <td>3.0</td>\n",
       "      <td>222.0</td>\n",
       "      <td>18.7</td>\n",
       "      <td>396.90</td>\n",
       "      <td>5.33</td>\n",
       "      <td>36.2</td>\n",
       "    </tr>\n",
       "  </tbody>\n",
       "</table>\n",
       "</div>"
      ],
      "text/plain": [
       "      CRIM    ZN  INDUS  CHAS    NOX     RM   AGE     DIS  RAD    TAX  \\\n",
       "0  0.00632  18.0   2.31   0.0  0.538  6.575  65.2  4.0900  1.0  296.0   \n",
       "1  0.02731   0.0   7.07   0.0  0.469  6.421  78.9  4.9671  2.0  242.0   \n",
       "2  0.02729   0.0   7.07   0.0  0.469  7.185  61.1  4.9671  2.0  242.0   \n",
       "3  0.03237   0.0   2.18   0.0  0.458  6.998  45.8  6.0622  3.0  222.0   \n",
       "4  0.06905   0.0   2.18   0.0  0.458  7.147  54.2  6.0622  3.0  222.0   \n",
       "\n",
       "   PIRATIO       B  LSTAT  MEDV  \n",
       "0     15.3  396.90   4.98  24.0  \n",
       "1     17.8  396.90   9.14  21.6  \n",
       "2     17.8  392.83   4.03  34.7  \n",
       "3     18.7  394.63   2.94  33.4  \n",
       "4     18.7  396.90   5.33  36.2  "
      ]
     },
     "execution_count": 2,
     "metadata": {},
     "output_type": "execute_result"
    }
   ],
   "source": [
    "df1 = pd.DataFrame(columns=['CRIM', 'ZN', 'INDUS', 'CHAS', 'NOX', 'RM', 'AGE', 'DIS', 'RAD', 'TAX', 'PIRATIO', \n",
    "                           'B', 'LSTAT', 'MEDV'])\n",
    "\n",
    "data = np.loadtxt('data_trab1/housing.data')\n",
    "\n",
    "for vet in data:\n",
    "    df1 = df1.append({\n",
    "        'CRIM': vet[0], \n",
    "        'ZN': vet[1], \n",
    "        'INDUS': vet[2],\n",
    "        'CHAS': vet[3], \n",
    "        'NOX': vet[4],\n",
    "        'RM': vet[5],\n",
    "        'AGE': vet[6],\n",
    "        'DIS': vet[7],\n",
    "        'RAD': vet[8],\n",
    "        'TAX': vet[9],\n",
    "        'PIRATIO': vet[10],\n",
    "        'B': vet[11],\n",
    "        'LSTAT': vet[12],\n",
    "        'MEDV': vet[13]\n",
    "    }, ignore_index=True)\n",
    "    \n",
    "df1.head()"
   ]
  },
  {
   "cell_type": "markdown",
   "metadata": {},
   "source": [
    "## 4. X e y\n",
    "\n",
    "A variável LSTAT servirá como atributo preditor (X) e a variável MEDV como atributo alvo (y)."
   ]
  },
  {
   "cell_type": "code",
   "execution_count": 3,
   "metadata": {},
   "outputs": [
    {
     "data": {
      "text/plain": [
       "((506,), (506,))"
      ]
     },
     "execution_count": 3,
     "metadata": {},
     "output_type": "execute_result"
    }
   ],
   "source": [
    "X = df1['LSTAT'].values\n",
    "y = df1['MEDV'].values\n",
    "\n",
    "X.shape, y.shape"
   ]
  },
  {
   "cell_type": "markdown",
   "metadata": {},
   "source": [
    "## 5. Dividindo o conjunto de dados\n",
    "\n",
    "Dividindo o conjunto de dados em 80% para treino e 20% para teste."
   ]
  },
  {
   "cell_type": "code",
   "execution_count": 4,
   "metadata": {},
   "outputs": [
    {
     "data": {
      "text/plain": [
       "(((404,), (404,)), ((102,), (102,)))"
      ]
     },
     "execution_count": 4,
     "metadata": {},
     "output_type": "execute_result"
    }
   ],
   "source": [
    "X_train, X_test, y_train, y_test = train_test_split(X, y, test_size=0.2, random_state=42)\n",
    "\n",
    "(X_train.shape, y_train.shape), (X_test.shape, y_test.shape)"
   ]
  },
  {
   "cell_type": "markdown",
   "metadata": {},
   "source": [
    "## 6. Execução dos métodos das alternativas a, b, f e g da 1ª questão\n",
    "\n",
    "Não foi feita a normalização dos dados."
   ]
  },
  {
   "cell_type": "code",
   "execution_count": 5,
   "metadata": {},
   "outputs": [],
   "source": [
    "# from sklearn.preprocessing import normalize\n",
    "# X_train = normalize(X_train[:,np.newaxis], axis=0).ravel()\n",
    "# X_test = normalize(X_test[:,np.newaxis], axis=0).ravel()\n",
    "\n",
    "linear_models1 = {\n",
    "    'LR_AM': linear_models.LRAnalyticalMethod(),\n",
    "    'LR_GD': linear_models.LRGradientDescent(),\n",
    "    'QLR': linear_models.QuadraticLN(),\n",
    "    'CLR': linear_models.CubicLN()\n",
    "}\n",
    "\n",
    "for k, v in linear_models1.items():\n",
    "    if k == 'LR_GD':\n",
    "        v.fit(X_train, y_train, epochs=80000, learning_rate=0.001)\n",
    "    else:\n",
    "        v.fit(X_train, y_train)"
   ]
  },
  {
   "cell_type": "markdown",
   "metadata": {},
   "source": [
    "### a. MSE e R² para os conjuntos de treino e teste"
   ]
  },
  {
   "cell_type": "markdown",
   "metadata": {},
   "source": [
    "#### Valores"
   ]
  },
  {
   "cell_type": "code",
   "execution_count": 6,
   "metadata": {
    "scrolled": true
   },
   "outputs": [
    {
     "data": {
      "text/plain": [
       "{'Train': {'LR_AM_MSE': 39.76038682967429,\n",
       "  'LR_AM_R2': 0.5423180734793516,\n",
       "  'LR_GD_MSE': 39.760386829674296,\n",
       "  'LR_GD_R2': 0.5423180734793516,\n",
       "  'QLR_MSE': 53.3250378785081,\n",
       "  'QLR_R2': 0.3861753364580617,\n",
       "  'CLR_MSE': 63.96585430530064,\n",
       "  'CLR_R2': 0.263688868133959},\n",
       " 'Test': {'LR_AM_MSE': 33.51954917268489,\n",
       "  'LR_AM_R2': 0.5429180422970386,\n",
       "  'LR_GD_MSE': 33.51954909679531,\n",
       "  'LR_GD_R2': 0.5429180433318901,\n",
       "  'QLR_MSE': 45.65953127944843,\n",
       "  'QLR_R2': 0.37737384719908473,\n",
       "  'CLR_MSE': 55.590565101269,\n",
       "  'CLR_R2': 0.24195148940105238}}"
      ]
     },
     "execution_count": 6,
     "metadata": {},
     "output_type": "execute_result"
    }
   ],
   "source": [
    "pred_values1, scores1 = utils.calculates_error_metrics(linear_models1, X_train, y_train, X_test, y_test)\n",
    "\n",
    "scores1"
   ]
  },
  {
   "cell_type": "markdown",
   "metadata": {},
   "source": [
    "#### Visualização "
   ]
  },
  {
   "cell_type": "code",
   "execution_count": 7,
   "metadata": {
    "scrolled": true
   },
   "outputs": [
    {
     "data": {
      "image/png": "[encoded data removed]",
      "text/plain": [
       "<Figure size 864x576 with 1 Axes>"
      ]
     },
     "metadata": {
      "needs_background": "light"
     },
     "output_type": "display_data"
    }
   ],
   "source": [
    "# MSE\n",
    "utils.plot_scores_histogram(linear_models1, scores1, 'MSE')"
   ]
  },
  {
   "cell_type": "code",
   "execution_count": 8,
   "metadata": {
    "scrolled": true
   },
   "outputs": [
    {
     "data": {
      "image/png": "[encoded data removed]",
      "text/plain": [
       "<Figure size 864x576 with 1 Axes>"
      ]
     },
     "metadata": {
      "needs_background": "light"
     },
     "output_type": "display_data"
    }
   ],
   "source": [
    "# R²\n",
    "utils.plot_scores_histogram(linear_models1, scores1, 'R2')"
   ]
  },
  {
   "cell_type": "markdown",
   "metadata": {},
   "source": [
    "### b. Coeficientes"
   ]
  },
  {
   "cell_type": "code",
   "execution_count": 9,
   "metadata": {},
   "outputs": [
    {
     "name": "stdout",
     "output_type": "stream",
     "text": [
      "Linear model -> LR_AM: b_0 = 34.836949820318516, b_1 = -0.9665309019503535\n",
      "Linear model -> LR_GD: b_0 = 34.83694970819148, b_1 = -0.9665308951490615\n",
      "Linear model -> QLR: b_0 = 27.91222309538048, b_1 = -0.024879577135618256\n",
      "Linear model -> CLR: b_0 = 25.57766700983826, b_1 = -0.0006699697296534989\n"
     ]
    }
   ],
   "source": [
    "for k, v in linear_models1.items():\n",
    "    print('Linear model -> {}: b_0 = {}, b_1 = {}'.format(k, v.coef_()[0], v.coef_()[1]))"
   ]
  },
  {
   "cell_type": "markdown",
   "metadata": {},
   "source": [
    "### c. Qual o melhor modelo linear?\n",
    "\n",
    "Avaliando os modelos com as métricas de erro (**MSE** e **R²**) definidas abaixo de forma bem resumida, podemos concluir qual modelo obteve a melhor performance. \n",
    "\n",
    "- **MSE**: média do quadrado dos erros. Quanto maior for o número, maior será o erro. Erro, neste caso, significa a diferença entre os valores observados e os preditos.\n",
    "- **R2**: varia entre -∞ e 1. Está intimamente relacionado ao MSE, mas indica a variância total explicada pelo modelo dividida pela variância total. Portanto, se o valor for próximo de 1, as variáveis estão perfeitamente correlacionadas.\n",
    "\n",
    "De acordo com essas definições, e com os valores e gráficos exibidos acima, podemos chegar em algumas conclusões:\n",
    "\n",
    "0. Em geral, comparando as predições dos modelos entre os conjuntos de treino e teste, os valores estão bem aproximados.\n",
    "1. Os métodos LR_AM (Regressão Linear Método Análitico) e LR_GD (Regressão Linear Gradiente Descendente) obtiveram os menores resultados para o **MSE**. Os valores estão bem próximos (diferença *muito* pequena) e não acho justo escolher apenas um. Mas, ainda fazendo a comparação de valores e olhando apenas para a predição feita para o conjunto de teste, o modelo que obteve a \"melhor\" perfomance foi o **LR_GD**.\n",
    "2. Da mesma maneira, analisando a métrica **R²**, os métodos que obtiveram melhor performance foram o LR_AM e o LR_GD. Também possuem scores bastante iguais e também não acho justo escolher apenas um. Como também foi feito anteriormente, analisando os valores para o conjunto de teste, o modelo que obteve melhor perfomance também foi o **LR_GD**.\n",
    "3. Creio que os modelos QLR (Regressão Linear Quadrática) e CRL (Regressão Linear Cúbica) não se saíram bem porque os dados disponibilizados para esse problema possuem característica mais linear.\n",
    "\n",
    "> **Comentário extra:** Apesar do modelo com Gradiente Descendente ter resultados para as métricas de erro um pouco melhor (bem pouco mesmo), foram necessários alguns testes mudando as quantidades de épocas e a taxa de aprendizado (parecido com o que foi feito para o outro conjunto de dados analisado com os métodos da Regressão Multivariada), até obter os valores atuais utilizados acima.\n",
    "\n",
    "**O plot abaixo indica a predição feita pelo modelo para o conjunto de teste:**"
   ]
  },
  {
   "cell_type": "code",
   "execution_count": 10,
   "metadata": {
    "scrolled": false
   },
   "outputs": [
    {
     "data": {
      "image/png": "[encoded data removed]",
      "text/plain": [
       "<Figure size 720x360 with 1 Axes>"
      ]
     },
     "metadata": {
      "needs_background": "light"
     },
     "output_type": "display_data"
    }
   ],
   "source": [
    "utils.plot_line_graphic(X_test, y_test, pred_values1['Test']['LR_GD'], 'LSTAT', 'MEDV')"
   ]
  },
  {
   "cell_type": "markdown",
   "metadata": {},
   "source": [
    "## 7. Leitura do segundo conjunto de dados"
   ]
  },
  {
   "cell_type": "code",
   "execution_count": 11,
   "metadata": {},
   "outputs": [
    {
     "data": {
      "text/html": [
       "<div>\n",
       "<style scoped>\n",
       "    .dataframe tbody tr th:only-of-type {\n",
       "        vertical-align: middle;\n",
       "    }\n",
       "\n",
       "    .dataframe tbody tr th {\n",
       "        vertical-align: top;\n",
       "    }\n",
       "\n",
       "    .dataframe thead th {\n",
       "        text-align: right;\n",
       "    }\n",
       "</style>\n",
       "<table border=\"1\" class=\"dataframe\">\n",
       "  <thead>\n",
       "    <tr style=\"text-align: right;\">\n",
       "      <th></th>\n",
       "      <th>TV</th>\n",
       "      <th>radio</th>\n",
       "      <th>newspaper</th>\n",
       "      <th>sales</th>\n",
       "    </tr>\n",
       "  </thead>\n",
       "  <tbody>\n",
       "    <tr>\n",
       "      <th>0</th>\n",
       "      <td>230.1</td>\n",
       "      <td>37.8</td>\n",
       "      <td>69.2</td>\n",
       "      <td>22.1</td>\n",
       "    </tr>\n",
       "    <tr>\n",
       "      <th>1</th>\n",
       "      <td>44.5</td>\n",
       "      <td>39.3</td>\n",
       "      <td>45.1</td>\n",
       "      <td>10.4</td>\n",
       "    </tr>\n",
       "    <tr>\n",
       "      <th>2</th>\n",
       "      <td>17.2</td>\n",
       "      <td>45.9</td>\n",
       "      <td>69.3</td>\n",
       "      <td>9.3</td>\n",
       "    </tr>\n",
       "    <tr>\n",
       "      <th>3</th>\n",
       "      <td>151.5</td>\n",
       "      <td>41.3</td>\n",
       "      <td>58.5</td>\n",
       "      <td>18.5</td>\n",
       "    </tr>\n",
       "    <tr>\n",
       "      <th>4</th>\n",
       "      <td>180.8</td>\n",
       "      <td>10.8</td>\n",
       "      <td>58.4</td>\n",
       "      <td>12.9</td>\n",
       "    </tr>\n",
       "  </tbody>\n",
       "</table>\n",
       "</div>"
      ],
      "text/plain": [
       "      TV  radio  newspaper  sales\n",
       "0  230.1   37.8       69.2   22.1\n",
       "1   44.5   39.3       45.1   10.4\n",
       "2   17.2   45.9       69.3    9.3\n",
       "3  151.5   41.3       58.5   18.5\n",
       "4  180.8   10.8       58.4   12.9"
      ]
     },
     "execution_count": 11,
     "metadata": {},
     "output_type": "execute_result"
    }
   ],
   "source": [
    "df2 = pd.read_csv('data_trab1/trab1_advertising.csv')\n",
    "\n",
    "df2.drop('Unnamed: 0', inplace=True, axis=1)\n",
    "df2.head()"
   ]
  },
  {
   "cell_type": "code",
   "execution_count": 12,
   "metadata": {},
   "outputs": [
    {
     "data": {
      "text/plain": [
       "((200, 3), (200,))"
      ]
     },
     "execution_count": 12,
     "metadata": {},
     "output_type": "execute_result"
    }
   ],
   "source": [
    "# O vetor alvo (y) é a última coluna\n",
    "X = df2.values[:, :-1]\n",
    "y = df2.values[:, -1]\n",
    "\n",
    "X.shape, y.shape"
   ]
  },
  {
   "cell_type": "code",
   "execution_count": 13,
   "metadata": {},
   "outputs": [
    {
     "data": {
      "text/plain": [
       "(((160, 3), (160,)), ((40, 3), (40,)))"
      ]
     },
     "execution_count": 13,
     "metadata": {},
     "output_type": "execute_result"
    }
   ],
   "source": [
    "# Dividindo o conjunto de dados em 80% para treino e 20% para teste.\n",
    "X_train, X_test, y_train, y_test = train_test_split(X, y, test_size=0.2, random_state=42)\n",
    "\n",
    "(X_train.shape, y_train.shape), (X_test.shape, y_test.shape)"
   ]
  },
  {
   "cell_type": "markdown",
   "metadata": {},
   "source": [
    "## 8.  Execução dos métodos das alternativas c, d, e e f da 1ª questão\n",
    "\n",
    "Foi feita a normalização dos dados."
   ]
  },
  {
   "cell_type": "code",
   "execution_count": 14,
   "metadata": {},
   "outputs": [],
   "source": [
    "from sklearn.preprocessing import StandardScaler\n",
    "\n",
    "linear_models2 = {\n",
    "    'MLR_AM': linear_models.MLRAnalyticalMethod(),\n",
    "    'MLR_GD': linear_models.MLRGradientDescent(),\n",
    "    'MLR_EGD': linear_models.MLRStochasticGradientDescent(),\n",
    "    'MLR_R': linear_models.MLRRegularized(),\n",
    "}\n",
    "\n",
    "# Normalizando os dados\n",
    "scaler = StandardScaler()\n",
    "scaler.fit(X_train)\n",
    "X_train = scaler.transform(X_train)\n",
    "X_test = scaler.transform(X_test)\n",
    "\n",
    "# Épocas para cada um dos métodos de Regressão Linear Multivariada\n",
    "iter_gd = 50000\n",
    "iter_egd = 1000\n",
    "iter_r = 50000\n",
    "learning_rate = 0.0001\n",
    "\n",
    "for k, v in linear_models2.items():\n",
    "    if k == 'MLR_GD':\n",
    "        v.fit(X_train, y_train, epochs=iter_gd, learning_rate=learning_rate)\n",
    "    elif k == 'MLR_EGD':\n",
    "        v.fit(X_train, y_train, epochs=iter_egd, learning_rate=learning_rate)\n",
    "    elif k == 'MLR_R':\n",
    "        v.fit(X_train, y_train, epochs=iter_r, learning_rate=learning_rate, lamb=1) # Lambda = 1 \n",
    "    else:\n",
    "        v.fit(X_train, y_train)"
   ]
  },
  {
   "cell_type": "markdown",
   "metadata": {},
   "source": [
    "### a. MSE e R² para os conjuntos de treino e teste"
   ]
  },
  {
   "cell_type": "markdown",
   "metadata": {},
   "source": [
    "#### Valores"
   ]
  },
  {
   "cell_type": "code",
   "execution_count": 15,
   "metadata": {
    "scrolled": true
   },
   "outputs": [
    {
     "data": {
      "text/plain": [
       "{'Train': {'MLR_AM_MSE': 2.7051294230814142,\n",
       "  'MLR_AM_R2': 0.8957008271017817,\n",
       "  'MLR_GD_MSE': 2.7187121513786296,\n",
       "  'MLR_GD_R2': 0.8951771304109643,\n",
       "  'MLR_EGD_MSE': 2.7051294541732798,\n",
       "  'MLR_EGD_R2': 0.8957008259030014,\n",
       "  'MLR_R_MSE': 2.840936407920047,\n",
       "  'MLR_R_R2': 0.890464642809965},\n",
       " 'Test': {'MLR_AM_MSE': 3.174097353976116,\n",
       "  'MLR_AM_R2': 0.8994380241009117,\n",
       "  'MLR_GD_MSE': 3.2185013773652598,\n",
       "  'MLR_GD_R2': 0.8980312127048188,\n",
       "  'MLR_EGD_MSE': 3.1739571715825265,\n",
       "  'MLR_EGD_R2': 0.8994424653693774,\n",
       "  'MLR_R_MSE': 3.2697678498267138,\n",
       "  'MLR_R_R2': 0.8964069847139408}}"
      ]
     },
     "execution_count": 15,
     "metadata": {},
     "output_type": "execute_result"
    }
   ],
   "source": [
    "pred_values2, scores2 = utils.calculates_error_metrics(linear_models2, X_train, y_train, X_test, y_test)\n",
    "\n",
    "scores2"
   ]
  },
  {
   "cell_type": "markdown",
   "metadata": {},
   "source": [
    "#### Visualização"
   ]
  },
  {
   "cell_type": "code",
   "execution_count": 16,
   "metadata": {
    "scrolled": true
   },
   "outputs": [
    {
     "data": {
      "image/png": "[encoded data removed]",
      "text/plain": [
       "<Figure size 864x576 with 1 Axes>"
      ]
     },
     "metadata": {
      "needs_background": "light"
     },
     "output_type": "display_data"
    }
   ],
   "source": [
    "utils.plot_scores_histogram(linear_models2, scores2, 'MSE')"
   ]
  },
  {
   "cell_type": "code",
   "execution_count": 17,
   "metadata": {},
   "outputs": [
    {
     "data": {
      "image/png": "[encoded data removed]",
      "text/plain": [
       "<Figure size 864x576 with 1 Axes>"
      ]
     },
     "metadata": {
      "needs_background": "light"
     },
     "output_type": "display_data"
    }
   ],
   "source": [
    "utils.plot_scores_histogram(linear_models2, scores2, 'R2')"
   ]
  },
  {
   "cell_type": "markdown",
   "metadata": {},
   "source": [
    "#### Qual o melhor modelo?\n",
    "\n",
    "De acordo com essas definições feitas anteriormente das métricas de erro (**MSE** e **R²**) utilizadas neste trabalho, analisando seus valores e os gráficos exibidos acima, comparando as predições de todos os modelos entre os conjuntos de treino e teste, os valores de todos eles estão bem aproximados. Fica até difícil selecionar um ou dois melhores modelos."
   ]
  },
  {
   "cell_type": "markdown",
   "metadata": {},
   "source": [
    "### b. Coeficientes\n",
    "\n",
    "Os valores dos coeficientes estão bem próximos."
   ]
  },
  {
   "cell_type": "code",
   "execution_count": 18,
   "metadata": {},
   "outputs": [
    {
     "name": "stdout",
     "output_type": "stream",
     "text": [
      "Linear model -> MLR_AM: [14.1         3.76419618  2.79230665  0.05597551])\n",
      "Linear model -> MLR_GD: [14.0050187   3.74446937  2.73487377  0.11421007])\n",
      "Linear model -> MLR_EGD: [14.09996632  3.7642869   2.79215587  0.05597156])\n",
      "Linear model -> MLR_R: [13.73528682  3.76651029  2.7517469   0.10905216])\n"
     ]
    }
   ],
   "source": [
    "for k, v in linear_models2.items():\n",
    "    print('Linear model -> {}: {})'.format(k, v.coef_()))"
   ]
  },
  {
   "cell_type": "markdown",
   "metadata": {},
   "source": [
    "### c. Plot da métrica MSE para cada época do Gradiente Descendente e Estocástico do método Regressão Linear Multivariada"
   ]
  },
  {
   "cell_type": "code",
   "execution_count": 19,
   "metadata": {},
   "outputs": [
    {
     "data": {
      "image/png": "[encoded data removed]",
      "text/plain": [
       "<Figure size 720x360 with 1 Axes>"
      ]
     },
     "metadata": {
      "needs_background": "light"
     },
     "output_type": "display_data"
    }
   ],
   "source": [
    "utils.plot_line_graphic(range(iter_gd), linear_models2['MLR_GD'].cost_history(), linear_models2['MLR_GD'].cost_history(), 'Épocas', 'MSE')"
   ]
  },
  {
   "cell_type": "code",
   "execution_count": 20,
   "metadata": {},
   "outputs": [
    {
     "data": {
      "image/png": "[encoded data removed]",
      "text/plain": [
       "<Figure size 720x360 with 1 Axes>"
      ]
     },
     "metadata": {
      "needs_background": "light"
     },
     "output_type": "display_data"
    }
   ],
   "source": [
    "utils.plot_line_graphic(range(iter_egd), linear_models2['MLR_EGD'].cost_history(), linear_models2['MLR_EGD'].cost_history(), 'Épocas', 'MSE')"
   ]
  },
  {
   "cell_type": "markdown",
   "metadata": {},
   "source": [
    "#### Qual dos métodos converge mais rápido?\n",
    "\n",
    "De acordo com os gráficos acima, o método que converge mais rápido (claramente) é o **MLR_EGD (Regressão Linear Multivariada Gradiente Estocástico)**. Foram feitos testes observando os gráficos acima até obter a melhor taxa de aprendizado: 0.0001."
   ]
  },
  {
   "cell_type": "markdown",
   "metadata": {},
   "source": [
    "### d. Plot da métrica MSE para o método Regressão Linear Regularizada Multivariada - Gradiente Descendente\n",
    "\n",
    "Conjunto de treino e o conjunto de teste (duas linhas) variando λ = 1, 2, 3, 4, 5."
   ]
  },
  {
   "cell_type": "code",
   "execution_count": 21,
   "metadata": {},
   "outputs": [
    {
     "data": {
      "text/plain": [
       "([3.4347504969543095,\n",
       "  3.6184501756659726,\n",
       "  3.829435939335137,\n",
       "  4.068257681658113,\n",
       "  4.3354757292585235],\n",
       " [3.944264614927893,\n",
       "  4.089844717039196,\n",
       "  4.2633853481839665,\n",
       "  4.465458465767371,\n",
       "  4.69664700617683])"
      ]
     },
     "execution_count": 21,
     "metadata": {},
     "output_type": "execute_result"
    }
   ],
   "source": [
    "epochs = 30000\n",
    "\n",
    "# Treino \n",
    "train_error = utils.modifying_regularization_coef(X_train, y_train, X_train, y_train, \n",
    "                                                  linear_models.MLRRegularized(), epochs, learning_rate, \n",
    "                                                  max_lamb=5, metric=metrics.MSE)\n",
    "\n",
    "# Teste\n",
    "test_error = utils.modifying_regularization_coef(X_train, y_train, X_test, y_test, \n",
    "                                                 linear_models.MLRRegularized(), epochs, learning_rate, \n",
    "                                                 max_lamb=5, metric=metrics.MSE)\n",
    "\n",
    "# Valores do MSE para treino e teste\n",
    "train_error, test_error"
   ]
  },
  {
   "cell_type": "code",
   "execution_count": 22,
   "metadata": {},
   "outputs": [
    {
     "data": {
      "image/png": "[encoded data removed]",
      "text/plain": [
       "<Figure size 720x360 with 1 Axes>"
      ]
     },
     "metadata": {
      "needs_background": "light"
     },
     "output_type": "display_data"
    }
   ],
   "source": [
    "utils.plot_lambdas(train_error, test_error)"
   ]
  },
  {
   "cell_type": "markdown",
   "metadata": {},
   "source": [
    "#### Qual valor de λ é mais adequado?\n",
    "\n",
    "O valor de lambda mais adequado é o valor **1**, pois conforme o termo de regularização varia até 5, o valor da métrica MSE também aumenta, tanto para o conjunto de treino quanto de teste. "
   ]
  }
 ],
 "metadata": {
  "kernelspec": {
   "display_name": "Python 3",
   "language": "python",
   "name": "python3"
  },
  "language_info": {
   "codemirror_mode": {
    "name": "ipython",
    "version": 3
   },
   "file_extension": ".py",
   "mimetype": "text/x-python",
   "name": "python",
   "nbconvert_exporter": "python",
   "pygments_lexer": "ipython3",
   "version": "3.8.2"
  }
 },
 "nbformat": 4,
 "nbformat_minor": 4
}
